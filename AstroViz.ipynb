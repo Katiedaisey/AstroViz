{
 "cells": [
  {
   "cell_type": "code",
   "execution_count": 1,
   "metadata": {},
   "outputs": [],
   "source": [
    "import numpy as np\n",
    "import pandas as pd\n",
    "import matplotlib.pyplot as plt\n",
    "import seaborn as sns\n",
    "import altair as alt\n",
    "import matplotlib.cm as cm"
   ]
  },
  {
   "cell_type": "code",
   "execution_count": 4,
   "metadata": {},
   "outputs": [],
   "source": [
    "alt.renderers.enable('notebook')\n",
    "import warnings\n",
    "warnings.filterwarnings('ignore')"
   ]
  },
  {
   "cell_type": "code",
   "execution_count": 11,
   "metadata": {},
   "outputs": [
    {
     "data": {
      "text/html": [
       "<div>\n",
       "<style scoped>\n",
       "    .dataframe tbody tr th:only-of-type {\n",
       "        vertical-align: middle;\n",
       "    }\n",
       "\n",
       "    .dataframe tbody tr th {\n",
       "        vertical-align: top;\n",
       "    }\n",
       "\n",
       "    .dataframe thead th {\n",
       "        text-align: right;\n",
       "    }\n",
       "</style>\n",
       "<table border=\"1\" class=\"dataframe\">\n",
       "  <thead>\n",
       "    <tr style=\"text-align: right;\">\n",
       "      <th></th>\n",
       "      <th>planet</th>\n",
       "      <th>mass</th>\n",
       "      <th>diameter</th>\n",
       "      <th>density</th>\n",
       "      <th>gravity</th>\n",
       "      <th>escape_velocity</th>\n",
       "      <th>rotation_period</th>\n",
       "      <th>length_of_day</th>\n",
       "      <th>distance_from_sun</th>\n",
       "      <th>perihelion</th>\n",
       "      <th>...</th>\n",
       "      <th>orbital_period</th>\n",
       "      <th>orbital_velocity</th>\n",
       "      <th>orbital_inclination</th>\n",
       "      <th>orbital_eccentricity</th>\n",
       "      <th>obliquity_to_orbit</th>\n",
       "      <th>mean_temperature</th>\n",
       "      <th>surface_pressure</th>\n",
       "      <th>number_of_moons</th>\n",
       "      <th>has_ring_system</th>\n",
       "      <th>has_global_magnetic_field</th>\n",
       "    </tr>\n",
       "  </thead>\n",
       "  <tbody>\n",
       "    <tr>\n",
       "      <th>0</th>\n",
       "      <td>Mercury</td>\n",
       "      <td>0.330</td>\n",
       "      <td>4879</td>\n",
       "      <td>5427</td>\n",
       "      <td>3.7</td>\n",
       "      <td>4.3</td>\n",
       "      <td>1407.6</td>\n",
       "      <td>4222.6</td>\n",
       "      <td>57.9</td>\n",
       "      <td>46.0</td>\n",
       "      <td>...</td>\n",
       "      <td>88.0</td>\n",
       "      <td>47.4</td>\n",
       "      <td>7.0</td>\n",
       "      <td>0.205</td>\n",
       "      <td>0.034</td>\n",
       "      <td>167</td>\n",
       "      <td>0</td>\n",
       "      <td>0</td>\n",
       "      <td>No</td>\n",
       "      <td>Yes</td>\n",
       "    </tr>\n",
       "    <tr>\n",
       "      <th>1</th>\n",
       "      <td>Venus</td>\n",
       "      <td>4.870</td>\n",
       "      <td>12104</td>\n",
       "      <td>5243</td>\n",
       "      <td>8.9</td>\n",
       "      <td>10.4</td>\n",
       "      <td>-5832.5</td>\n",
       "      <td>2802.0</td>\n",
       "      <td>108.2</td>\n",
       "      <td>107.5</td>\n",
       "      <td>...</td>\n",
       "      <td>224.7</td>\n",
       "      <td>35.0</td>\n",
       "      <td>3.4</td>\n",
       "      <td>0.007</td>\n",
       "      <td>177.400</td>\n",
       "      <td>464</td>\n",
       "      <td>92</td>\n",
       "      <td>0</td>\n",
       "      <td>No</td>\n",
       "      <td>No</td>\n",
       "    </tr>\n",
       "    <tr>\n",
       "      <th>2</th>\n",
       "      <td>Earth</td>\n",
       "      <td>5.970</td>\n",
       "      <td>12756</td>\n",
       "      <td>5514</td>\n",
       "      <td>9.8</td>\n",
       "      <td>11.2</td>\n",
       "      <td>23.9</td>\n",
       "      <td>24.0</td>\n",
       "      <td>149.6</td>\n",
       "      <td>147.1</td>\n",
       "      <td>...</td>\n",
       "      <td>365.2</td>\n",
       "      <td>29.8</td>\n",
       "      <td>0.0</td>\n",
       "      <td>0.017</td>\n",
       "      <td>23.400</td>\n",
       "      <td>15</td>\n",
       "      <td>1</td>\n",
       "      <td>1</td>\n",
       "      <td>No</td>\n",
       "      <td>Yes</td>\n",
       "    </tr>\n",
       "    <tr>\n",
       "      <th>3</th>\n",
       "      <td>Mars</td>\n",
       "      <td>0.642</td>\n",
       "      <td>6792</td>\n",
       "      <td>3933</td>\n",
       "      <td>3.7</td>\n",
       "      <td>5.0</td>\n",
       "      <td>24.6</td>\n",
       "      <td>24.7</td>\n",
       "      <td>227.9</td>\n",
       "      <td>206.6</td>\n",
       "      <td>...</td>\n",
       "      <td>687.0</td>\n",
       "      <td>24.1</td>\n",
       "      <td>1.9</td>\n",
       "      <td>0.094</td>\n",
       "      <td>25.200</td>\n",
       "      <td>-65</td>\n",
       "      <td>0.01</td>\n",
       "      <td>2</td>\n",
       "      <td>No</td>\n",
       "      <td>No</td>\n",
       "    </tr>\n",
       "    <tr>\n",
       "      <th>4</th>\n",
       "      <td>Jupiter</td>\n",
       "      <td>1898.000</td>\n",
       "      <td>142984</td>\n",
       "      <td>1326</td>\n",
       "      <td>23.1</td>\n",
       "      <td>59.5</td>\n",
       "      <td>9.9</td>\n",
       "      <td>9.9</td>\n",
       "      <td>778.6</td>\n",
       "      <td>740.5</td>\n",
       "      <td>...</td>\n",
       "      <td>4331.0</td>\n",
       "      <td>13.1</td>\n",
       "      <td>1.3</td>\n",
       "      <td>0.049</td>\n",
       "      <td>3.100</td>\n",
       "      <td>-110</td>\n",
       "      <td>Unknown*</td>\n",
       "      <td>79</td>\n",
       "      <td>Yes</td>\n",
       "      <td>Yes</td>\n",
       "    </tr>\n",
       "  </tbody>\n",
       "</table>\n",
       "<p>5 rows × 21 columns</p>\n",
       "</div>"
      ],
      "text/plain": [
       "    planet      mass  diameter  density  gravity  escape_velocity  \\\n",
       "0  Mercury     0.330      4879     5427      3.7              4.3   \n",
       "1    Venus     4.870     12104     5243      8.9             10.4   \n",
       "2    Earth     5.970     12756     5514      9.8             11.2   \n",
       "3     Mars     0.642      6792     3933      3.7              5.0   \n",
       "4  Jupiter  1898.000    142984     1326     23.1             59.5   \n",
       "\n",
       "   rotation_period  length_of_day  distance_from_sun  perihelion  ...  \\\n",
       "0           1407.6         4222.6               57.9        46.0  ...   \n",
       "1          -5832.5         2802.0              108.2       107.5  ...   \n",
       "2             23.9           24.0              149.6       147.1  ...   \n",
       "3             24.6           24.7              227.9       206.6  ...   \n",
       "4              9.9            9.9              778.6       740.5  ...   \n",
       "\n",
       "   orbital_period  orbital_velocity  orbital_inclination  \\\n",
       "0            88.0              47.4                  7.0   \n",
       "1           224.7              35.0                  3.4   \n",
       "2           365.2              29.8                  0.0   \n",
       "3           687.0              24.1                  1.9   \n",
       "4          4331.0              13.1                  1.3   \n",
       "\n",
       "   orbital_eccentricity  obliquity_to_orbit  mean_temperature  \\\n",
       "0                 0.205               0.034               167   \n",
       "1                 0.007             177.400               464   \n",
       "2                 0.017              23.400                15   \n",
       "3                 0.094              25.200               -65   \n",
       "4                 0.049               3.100              -110   \n",
       "\n",
       "   surface_pressure number_of_moons  has_ring_system has_global_magnetic_field  \n",
       "0                 0               0               No                       Yes  \n",
       "1                92               0               No                        No  \n",
       "2                 1               1               No                       Yes  \n",
       "3              0.01               2               No                        No  \n",
       "4          Unknown*              79              Yes                       Yes  \n",
       "\n",
       "[5 rows x 21 columns]"
      ]
     },
     "execution_count": 11,
     "metadata": {},
     "output_type": "execute_result"
    }
   ],
   "source": [
    "planets_df = pd.read_csv('data/planets.csv')\n",
    "planets_df.head()"
   ]
  },
  {
   "cell_type": "code",
   "execution_count": 12,
   "metadata": {},
   "outputs": [
    {
     "data": {
      "text/plain": [
       "Index(['planet', 'mass', 'diameter', 'density', 'gravity', 'escape_velocity',\n",
       "       'rotation_period', 'length_of_day', 'distance_from_sun', 'perihelion',\n",
       "       'aphelion', 'orbital_period', 'orbital_velocity', 'orbital_inclination',\n",
       "       'orbital_eccentricity', 'obliquity_to_orbit', 'mean_temperature',\n",
       "       'surface_pressure', 'number_of_moons', 'has_ring_system',\n",
       "       'has_global_magnetic_field'],\n",
       "      dtype='object')"
      ]
     },
     "execution_count": 12,
     "metadata": {},
     "output_type": "execute_result"
    }
   ],
   "source": [
    "planets_df.columns"
   ]
  },
  {
   "cell_type": "code",
   "execution_count": 21,
   "metadata": {},
   "outputs": [],
   "source": [
    "planets_subset_df = planets_df[['planet', 'mass', 'diameter', 'density', 'gravity', 'escape_velocity',\n",
    "                               'rotation_period', 'length_of_day', 'distance_from_sun', 'orbital_period', \n",
    "                               'orbital_velocity', 'orbital_eccentricity', 'mean_temperature','surface_pressure', \n",
    "                               'number_of_moons']]"
   ]
  },
  {
   "cell_type": "code",
   "execution_count": 28,
   "metadata": {},
   "outputs": [
    {
     "data": {
      "text/plain": [
       "<matplotlib.axes._subplots.AxesSubplot at 0x124e275c0>"
      ]
     },
     "execution_count": 28,
     "metadata": {},
     "output_type": "execute_result"
    },
    {
     "data": {
      "image/png": "[encoded data removed]",
      "text/plain": [
       "<Figure size 864x720 with 2 Axes>"
      ]
     },
     "metadata": {
      "needs_background": "light"
     },
     "output_type": "display_data"
    }
   ],
   "source": [
    "fig, ax = plt.subplots(figsize=(12,10))\n",
    "ax.set_title('Analyzing Solar System Planets')\n",
    "sns.heatmap(ax=ax, data=planets_subset_df.corr())"
   ]
  },
  {
   "cell_type": "code",
   "execution_count": null,
   "metadata": {},
   "outputs": [],
   "source": []
  }
 ],
 "metadata": {
  "kernelspec": {
   "display_name": "Python 3",
   "language": "python",
   "name": "python3"
  },
  "language_info": {
   "codemirror_mode": {
    "name": "ipython",
    "version": 3
   },
   "file_extension": ".py",
   "mimetype": "text/x-python",
   "name": "python",
   "nbconvert_exporter": "python",
   "pygments_lexer": "ipython3",
   "version": "3.7.0"
  }
 },
 "nbformat": 4,
 "nbformat_minor": 2
}
